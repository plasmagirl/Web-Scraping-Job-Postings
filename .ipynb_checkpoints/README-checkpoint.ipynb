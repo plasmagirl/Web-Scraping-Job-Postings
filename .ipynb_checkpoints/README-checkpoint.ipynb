{
 "cells": [
  {
   "cell_type": "markdown",
   "metadata": {},
   "source": [
    "Using python's `requests` and `BeautifulSoup` modules to scrape jobs from [Indeed](http://www.indeed.com) and evaluate technical skills and keywords that are in popular demand by employers right now. \n",
    "\n",
    "Keywords: web scraping, data extraction, indeed.com, requests, BeautifulSoup, pandas, matplotlib, regex, nltk "
   ]
  }
 ],
 "metadata": {
  "kernelspec": {
   "display_name": "WebScraping",
   "language": "python",
   "name": "webscraping"
  },
  "language_info": {
   "codemirror_mode": {
    "name": "ipython",
    "version": 3
   },
   "file_extension": ".py",
   "mimetype": "text/x-python",
   "name": "python",
   "nbconvert_exporter": "python",
   "pygments_lexer": "ipython3",
   "version": "3.8.6"
  }
 },
 "nbformat": 4,
 "nbformat_minor": 4
}
